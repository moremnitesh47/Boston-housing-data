{
 "cells": [
  {
   "cell_type": "code",
   "execution_count": 43,
   "id": "49283513",
   "metadata": {},
   "outputs": [],
   "source": [
    "#This project is the Boston Housing Dataset is a derived from information collected by the U.S. Census Service \n",
    "#which is concerning housing in the area of Boston MA."
   ]
  },
  {
   "cell_type": "code",
   "execution_count": 44,
   "id": "441536a7",
   "metadata": {},
   "outputs": [],
   "source": [
    "#The Contents Of the project\n",
    "\n",
    "#-----Importing libraries\n",
    "#-----Loading data\n",
    "#-----Information about data    \n",
    "#-----Statistics\n",
    "#-----Preprocessing and Explanatory Data Analysis\n",
    "#-----Vizualization\n",
    "#-----Importing Linear Regression Model --Trainig the Model\n",
    "#-----Vizualizing the difference between Actual and Predicted prices for Train Dataset\n",
    "#-----Applying Linear model to Test Data\n",
    "#-----Vizualizing the difference between Actual and Predicted prices for Test Dataset\n",
    "\n",
    "#-------------Summary for both test and Train Data "
   ]
  },
  {
   "cell_type": "markdown",
   "id": "064d07b4",
   "metadata": {},
   "source": [
    "# #Importing Libraries"
   ]
  },
  {
   "cell_type": "code",
   "execution_count": 45,
   "id": "e24bd4d5",
   "metadata": {},
   "outputs": [],
   "source": [
    "import pandas as pd\n",
    "import numpy as np\n",
    "import matplotlib.pyplot as plt\n",
    "import seaborn as sns\n",
    "from sklearn import metrics"
   ]
  },
  {
   "cell_type": "markdown",
   "id": "6834737f",
   "metadata": {},
   "source": [
    "# Loading Data "
   ]
  },
  {
   "cell_type": "code",
   "execution_count": 46,
   "id": "8bc7a3f7",
   "metadata": {},
   "outputs": [],
   "source": [
    "#Loading Data \n",
    "\n",
    "Boston_train=pd.read_csv(r'C:\\Users\\morem\\OneDrive\\Desktop\\Boston_Train.csv')           "
   ]
  },
  {
   "cell_type": "code",
   "execution_count": 47,
   "id": "9dc9e8e9",
   "metadata": {},
   "outputs": [
    {
     "data": {
      "text/html": [
       "<div>\n",
       "<style scoped>\n",
       "    .dataframe tbody tr th:only-of-type {\n",
       "        vertical-align: middle;\n",
       "    }\n",
       "\n",
       "    .dataframe tbody tr th {\n",
       "        vertical-align: top;\n",
       "    }\n",
       "\n",
       "    .dataframe thead th {\n",
       "        text-align: right;\n",
       "    }\n",
       "</style>\n",
       "<table border=\"1\" class=\"dataframe\">\n",
       "  <thead>\n",
       "    <tr style=\"text-align: right;\">\n",
       "      <th></th>\n",
       "      <th>Unnamed: 0</th>\n",
       "      <th>crim</th>\n",
       "      <th>zn</th>\n",
       "      <th>indus</th>\n",
       "      <th>chas</th>\n",
       "      <th>nox</th>\n",
       "      <th>rm</th>\n",
       "      <th>age</th>\n",
       "      <th>dis</th>\n",
       "      <th>rad</th>\n",
       "      <th>tax</th>\n",
       "      <th>ptratio</th>\n",
       "      <th>black</th>\n",
       "      <th>lstat</th>\n",
       "      <th>medv</th>\n",
       "    </tr>\n",
       "  </thead>\n",
       "  <tbody>\n",
       "    <tr>\n",
       "      <th>0</th>\n",
       "      <td>0</td>\n",
       "      <td>0.00632</td>\n",
       "      <td>18.0</td>\n",
       "      <td>2.31</td>\n",
       "      <td>0</td>\n",
       "      <td>0.538</td>\n",
       "      <td>6.575</td>\n",
       "      <td>65.2</td>\n",
       "      <td>4.0900</td>\n",
       "      <td>1</td>\n",
       "      <td>296</td>\n",
       "      <td>15.3</td>\n",
       "      <td>396.90</td>\n",
       "      <td>4.98</td>\n",
       "      <td>24.0</td>\n",
       "    </tr>\n",
       "    <tr>\n",
       "      <th>1</th>\n",
       "      <td>1</td>\n",
       "      <td>0.02731</td>\n",
       "      <td>0.0</td>\n",
       "      <td>7.07</td>\n",
       "      <td>0</td>\n",
       "      <td>0.469</td>\n",
       "      <td>6.421</td>\n",
       "      <td>78.9</td>\n",
       "      <td>4.9671</td>\n",
       "      <td>2</td>\n",
       "      <td>242</td>\n",
       "      <td>17.8</td>\n",
       "      <td>396.90</td>\n",
       "      <td>9.14</td>\n",
       "      <td>21.6</td>\n",
       "    </tr>\n",
       "    <tr>\n",
       "      <th>2</th>\n",
       "      <td>2</td>\n",
       "      <td>0.02729</td>\n",
       "      <td>0.0</td>\n",
       "      <td>7.07</td>\n",
       "      <td>0</td>\n",
       "      <td>0.469</td>\n",
       "      <td>7.185</td>\n",
       "      <td>61.1</td>\n",
       "      <td>4.9671</td>\n",
       "      <td>2</td>\n",
       "      <td>242</td>\n",
       "      <td>17.8</td>\n",
       "      <td>392.83</td>\n",
       "      <td>4.03</td>\n",
       "      <td>34.7</td>\n",
       "    </tr>\n",
       "    <tr>\n",
       "      <th>3</th>\n",
       "      <td>3</td>\n",
       "      <td>0.03237</td>\n",
       "      <td>0.0</td>\n",
       "      <td>2.18</td>\n",
       "      <td>0</td>\n",
       "      <td>0.458</td>\n",
       "      <td>6.998</td>\n",
       "      <td>45.8</td>\n",
       "      <td>6.0622</td>\n",
       "      <td>3</td>\n",
       "      <td>222</td>\n",
       "      <td>18.7</td>\n",
       "      <td>394.63</td>\n",
       "      <td>2.94</td>\n",
       "      <td>33.4</td>\n",
       "    </tr>\n",
       "    <tr>\n",
       "      <th>4</th>\n",
       "      <td>4</td>\n",
       "      <td>0.06905</td>\n",
       "      <td>0.0</td>\n",
       "      <td>2.18</td>\n",
       "      <td>0</td>\n",
       "      <td>0.458</td>\n",
       "      <td>7.147</td>\n",
       "      <td>54.2</td>\n",
       "      <td>6.0622</td>\n",
       "      <td>3</td>\n",
       "      <td>222</td>\n",
       "      <td>18.7</td>\n",
       "      <td>396.90</td>\n",
       "      <td>5.33</td>\n",
       "      <td>36.2</td>\n",
       "    </tr>\n",
       "    <tr>\n",
       "      <th>5</th>\n",
       "      <td>5</td>\n",
       "      <td>0.02985</td>\n",
       "      <td>0.0</td>\n",
       "      <td>2.18</td>\n",
       "      <td>0</td>\n",
       "      <td>0.458</td>\n",
       "      <td>6.430</td>\n",
       "      <td>58.7</td>\n",
       "      <td>6.0622</td>\n",
       "      <td>3</td>\n",
       "      <td>222</td>\n",
       "      <td>18.7</td>\n",
       "      <td>394.12</td>\n",
       "      <td>5.21</td>\n",
       "      <td>28.7</td>\n",
       "    </tr>\n",
       "    <tr>\n",
       "      <th>6</th>\n",
       "      <td>6</td>\n",
       "      <td>0.08829</td>\n",
       "      <td>12.5</td>\n",
       "      <td>7.87</td>\n",
       "      <td>0</td>\n",
       "      <td>0.524</td>\n",
       "      <td>6.012</td>\n",
       "      <td>66.6</td>\n",
       "      <td>5.5605</td>\n",
       "      <td>5</td>\n",
       "      <td>311</td>\n",
       "      <td>15.2</td>\n",
       "      <td>395.60</td>\n",
       "      <td>12.43</td>\n",
       "      <td>22.9</td>\n",
       "    </tr>\n",
       "  </tbody>\n",
       "</table>\n",
       "</div>"
      ],
      "text/plain": [
       "   Unnamed: 0     crim    zn  indus  chas    nox     rm   age     dis  rad  \\\n",
       "0           0  0.00632  18.0   2.31     0  0.538  6.575  65.2  4.0900    1   \n",
       "1           1  0.02731   0.0   7.07     0  0.469  6.421  78.9  4.9671    2   \n",
       "2           2  0.02729   0.0   7.07     0  0.469  7.185  61.1  4.9671    2   \n",
       "3           3  0.03237   0.0   2.18     0  0.458  6.998  45.8  6.0622    3   \n",
       "4           4  0.06905   0.0   2.18     0  0.458  7.147  54.2  6.0622    3   \n",
       "5           5  0.02985   0.0   2.18     0  0.458  6.430  58.7  6.0622    3   \n",
       "6           6  0.08829  12.5   7.87     0  0.524  6.012  66.6  5.5605    5   \n",
       "\n",
       "   tax  ptratio   black  lstat  medv  \n",
       "0  296     15.3  396.90   4.98  24.0  \n",
       "1  242     17.8  396.90   9.14  21.6  \n",
       "2  242     17.8  392.83   4.03  34.7  \n",
       "3  222     18.7  394.63   2.94  33.4  \n",
       "4  222     18.7  396.90   5.33  36.2  \n",
       "5  222     18.7  394.12   5.21  28.7  \n",
       "6  311     15.2  395.60  12.43  22.9  "
      ]
     },
     "execution_count": 47,
     "metadata": {},
     "output_type": "execute_result"
    }
   ],
   "source": [
    "Boston_train.head(7)"
   ]
  },
  {
   "cell_type": "code",
   "execution_count": 48,
   "id": "98600e51",
   "metadata": {},
   "outputs": [
    {
     "data": {
      "text/html": [
       "<div>\n",
       "<style scoped>\n",
       "    .dataframe tbody tr th:only-of-type {\n",
       "        vertical-align: middle;\n",
       "    }\n",
       "\n",
       "    .dataframe tbody tr th {\n",
       "        vertical-align: top;\n",
       "    }\n",
       "\n",
       "    .dataframe thead th {\n",
       "        text-align: right;\n",
       "    }\n",
       "</style>\n",
       "<table border=\"1\" class=\"dataframe\">\n",
       "  <thead>\n",
       "    <tr style=\"text-align: right;\">\n",
       "      <th></th>\n",
       "      <th>Unnamed: 0</th>\n",
       "      <th>crim</th>\n",
       "      <th>zn</th>\n",
       "      <th>indus</th>\n",
       "      <th>chas</th>\n",
       "      <th>nox</th>\n",
       "      <th>rm</th>\n",
       "      <th>age</th>\n",
       "      <th>dis</th>\n",
       "      <th>rad</th>\n",
       "      <th>tax</th>\n",
       "      <th>ptratio</th>\n",
       "      <th>black</th>\n",
       "      <th>lstat</th>\n",
       "      <th>medv</th>\n",
       "    </tr>\n",
       "  </thead>\n",
       "  <tbody>\n",
       "    <tr>\n",
       "      <th>344</th>\n",
       "      <td>344</td>\n",
       "      <td>0.03049</td>\n",
       "      <td>55.0</td>\n",
       "      <td>3.78</td>\n",
       "      <td>0</td>\n",
       "      <td>0.484</td>\n",
       "      <td>6.874</td>\n",
       "      <td>28.1</td>\n",
       "      <td>6.4654</td>\n",
       "      <td>5</td>\n",
       "      <td>370</td>\n",
       "      <td>17.6</td>\n",
       "      <td>387.97</td>\n",
       "      <td>4.61</td>\n",
       "      <td>31.2</td>\n",
       "    </tr>\n",
       "    <tr>\n",
       "      <th>345</th>\n",
       "      <td>345</td>\n",
       "      <td>0.03113</td>\n",
       "      <td>0.0</td>\n",
       "      <td>4.39</td>\n",
       "      <td>0</td>\n",
       "      <td>0.442</td>\n",
       "      <td>6.014</td>\n",
       "      <td>48.5</td>\n",
       "      <td>8.0136</td>\n",
       "      <td>3</td>\n",
       "      <td>352</td>\n",
       "      <td>18.8</td>\n",
       "      <td>385.64</td>\n",
       "      <td>10.53</td>\n",
       "      <td>17.5</td>\n",
       "    </tr>\n",
       "    <tr>\n",
       "      <th>346</th>\n",
       "      <td>346</td>\n",
       "      <td>0.06162</td>\n",
       "      <td>0.0</td>\n",
       "      <td>4.39</td>\n",
       "      <td>0</td>\n",
       "      <td>0.442</td>\n",
       "      <td>5.898</td>\n",
       "      <td>52.3</td>\n",
       "      <td>8.0136</td>\n",
       "      <td>3</td>\n",
       "      <td>352</td>\n",
       "      <td>18.8</td>\n",
       "      <td>364.61</td>\n",
       "      <td>12.67</td>\n",
       "      <td>17.2</td>\n",
       "    </tr>\n",
       "    <tr>\n",
       "      <th>347</th>\n",
       "      <td>347</td>\n",
       "      <td>0.01870</td>\n",
       "      <td>85.0</td>\n",
       "      <td>4.15</td>\n",
       "      <td>0</td>\n",
       "      <td>0.429</td>\n",
       "      <td>6.516</td>\n",
       "      <td>27.7</td>\n",
       "      <td>8.5353</td>\n",
       "      <td>4</td>\n",
       "      <td>351</td>\n",
       "      <td>17.9</td>\n",
       "      <td>392.43</td>\n",
       "      <td>6.36</td>\n",
       "      <td>23.1</td>\n",
       "    </tr>\n",
       "    <tr>\n",
       "      <th>348</th>\n",
       "      <td>348</td>\n",
       "      <td>0.01501</td>\n",
       "      <td>80.0</td>\n",
       "      <td>2.01</td>\n",
       "      <td>0</td>\n",
       "      <td>0.435</td>\n",
       "      <td>6.635</td>\n",
       "      <td>29.7</td>\n",
       "      <td>8.3440</td>\n",
       "      <td>4</td>\n",
       "      <td>280</td>\n",
       "      <td>17.0</td>\n",
       "      <td>390.94</td>\n",
       "      <td>5.99</td>\n",
       "      <td>24.5</td>\n",
       "    </tr>\n",
       "    <tr>\n",
       "      <th>349</th>\n",
       "      <td>349</td>\n",
       "      <td>0.02899</td>\n",
       "      <td>40.0</td>\n",
       "      <td>1.25</td>\n",
       "      <td>0</td>\n",
       "      <td>0.429</td>\n",
       "      <td>6.939</td>\n",
       "      <td>34.5</td>\n",
       "      <td>8.7921</td>\n",
       "      <td>1</td>\n",
       "      <td>335</td>\n",
       "      <td>19.7</td>\n",
       "      <td>389.85</td>\n",
       "      <td>5.89</td>\n",
       "      <td>26.6</td>\n",
       "    </tr>\n",
       "    <tr>\n",
       "      <th>350</th>\n",
       "      <td>350</td>\n",
       "      <td>0.06211</td>\n",
       "      <td>40.0</td>\n",
       "      <td>1.25</td>\n",
       "      <td>0</td>\n",
       "      <td>0.429</td>\n",
       "      <td>6.490</td>\n",
       "      <td>44.4</td>\n",
       "      <td>8.7921</td>\n",
       "      <td>1</td>\n",
       "      <td>335</td>\n",
       "      <td>19.7</td>\n",
       "      <td>396.90</td>\n",
       "      <td>5.98</td>\n",
       "      <td>22.9</td>\n",
       "    </tr>\n",
       "  </tbody>\n",
       "</table>\n",
       "</div>"
      ],
      "text/plain": [
       "     Unnamed: 0     crim    zn  indus  chas    nox     rm   age     dis  rad  \\\n",
       "344         344  0.03049  55.0   3.78     0  0.484  6.874  28.1  6.4654    5   \n",
       "345         345  0.03113   0.0   4.39     0  0.442  6.014  48.5  8.0136    3   \n",
       "346         346  0.06162   0.0   4.39     0  0.442  5.898  52.3  8.0136    3   \n",
       "347         347  0.01870  85.0   4.15     0  0.429  6.516  27.7  8.5353    4   \n",
       "348         348  0.01501  80.0   2.01     0  0.435  6.635  29.7  8.3440    4   \n",
       "349         349  0.02899  40.0   1.25     0  0.429  6.939  34.5  8.7921    1   \n",
       "350         350  0.06211  40.0   1.25     0  0.429  6.490  44.4  8.7921    1   \n",
       "\n",
       "     tax  ptratio   black  lstat  medv  \n",
       "344  370     17.6  387.97   4.61  31.2  \n",
       "345  352     18.8  385.64  10.53  17.5  \n",
       "346  352     18.8  364.61  12.67  17.2  \n",
       "347  351     17.9  392.43   6.36  23.1  \n",
       "348  280     17.0  390.94   5.99  24.5  \n",
       "349  335     19.7  389.85   5.89  26.6  \n",
       "350  335     19.7  396.90   5.98  22.9  "
      ]
     },
     "execution_count": 48,
     "metadata": {},
     "output_type": "execute_result"
    }
   ],
   "source": [
    "Boston_train.tail(7)"
   ]
  },
  {
   "cell_type": "code",
   "execution_count": 49,
   "id": "93e74dae",
   "metadata": {},
   "outputs": [],
   "source": [
    "Boston_test=pd.read_csv(r'C:\\Users\\morem\\OneDrive\\Desktop\\Boston_Test.csv')"
   ]
  },
  {
   "cell_type": "code",
   "execution_count": 50,
   "id": "a703e42e",
   "metadata": {},
   "outputs": [
    {
     "data": {
      "text/html": [
       "<div>\n",
       "<style scoped>\n",
       "    .dataframe tbody tr th:only-of-type {\n",
       "        vertical-align: middle;\n",
       "    }\n",
       "\n",
       "    .dataframe tbody tr th {\n",
       "        vertical-align: top;\n",
       "    }\n",
       "\n",
       "    .dataframe thead th {\n",
       "        text-align: right;\n",
       "    }\n",
       "</style>\n",
       "<table border=\"1\" class=\"dataframe\">\n",
       "  <thead>\n",
       "    <tr style=\"text-align: right;\">\n",
       "      <th></th>\n",
       "      <th>Unnamed: 0</th>\n",
       "      <th>crim</th>\n",
       "      <th>zn</th>\n",
       "      <th>indus</th>\n",
       "      <th>chas</th>\n",
       "      <th>nox</th>\n",
       "      <th>rm</th>\n",
       "      <th>age</th>\n",
       "      <th>dis</th>\n",
       "      <th>rad</th>\n",
       "      <th>tax</th>\n",
       "      <th>ptratio</th>\n",
       "      <th>black</th>\n",
       "      <th>lstat</th>\n",
       "      <th>medv</th>\n",
       "    </tr>\n",
       "  </thead>\n",
       "  <tbody>\n",
       "    <tr>\n",
       "      <th>0</th>\n",
       "      <td>351</td>\n",
       "      <td>0.07950</td>\n",
       "      <td>60</td>\n",
       "      <td>1.69</td>\n",
       "      <td>0</td>\n",
       "      <td>0.411</td>\n",
       "      <td>6.579</td>\n",
       "      <td>35.9</td>\n",
       "      <td>10.7103</td>\n",
       "      <td>4</td>\n",
       "      <td>411</td>\n",
       "      <td>18.3</td>\n",
       "      <td>370.78</td>\n",
       "      <td>5.49</td>\n",
       "      <td>24.1</td>\n",
       "    </tr>\n",
       "    <tr>\n",
       "      <th>1</th>\n",
       "      <td>352</td>\n",
       "      <td>0.07244</td>\n",
       "      <td>60</td>\n",
       "      <td>1.69</td>\n",
       "      <td>0</td>\n",
       "      <td>0.411</td>\n",
       "      <td>5.884</td>\n",
       "      <td>18.5</td>\n",
       "      <td>10.7103</td>\n",
       "      <td>4</td>\n",
       "      <td>411</td>\n",
       "      <td>18.3</td>\n",
       "      <td>392.33</td>\n",
       "      <td>7.79</td>\n",
       "      <td>18.6</td>\n",
       "    </tr>\n",
       "    <tr>\n",
       "      <th>2</th>\n",
       "      <td>353</td>\n",
       "      <td>0.01709</td>\n",
       "      <td>90</td>\n",
       "      <td>2.02</td>\n",
       "      <td>0</td>\n",
       "      <td>0.410</td>\n",
       "      <td>6.728</td>\n",
       "      <td>36.1</td>\n",
       "      <td>12.1265</td>\n",
       "      <td>5</td>\n",
       "      <td>187</td>\n",
       "      <td>17.0</td>\n",
       "      <td>384.46</td>\n",
       "      <td>4.50</td>\n",
       "      <td>30.1</td>\n",
       "    </tr>\n",
       "    <tr>\n",
       "      <th>3</th>\n",
       "      <td>354</td>\n",
       "      <td>0.04301</td>\n",
       "      <td>80</td>\n",
       "      <td>1.91</td>\n",
       "      <td>0</td>\n",
       "      <td>0.413</td>\n",
       "      <td>5.663</td>\n",
       "      <td>21.9</td>\n",
       "      <td>10.5857</td>\n",
       "      <td>4</td>\n",
       "      <td>334</td>\n",
       "      <td>22.0</td>\n",
       "      <td>382.80</td>\n",
       "      <td>8.05</td>\n",
       "      <td>18.2</td>\n",
       "    </tr>\n",
       "    <tr>\n",
       "      <th>4</th>\n",
       "      <td>355</td>\n",
       "      <td>0.10659</td>\n",
       "      <td>80</td>\n",
       "      <td>1.91</td>\n",
       "      <td>0</td>\n",
       "      <td>0.413</td>\n",
       "      <td>5.936</td>\n",
       "      <td>19.5</td>\n",
       "      <td>10.5857</td>\n",
       "      <td>4</td>\n",
       "      <td>334</td>\n",
       "      <td>22.0</td>\n",
       "      <td>376.04</td>\n",
       "      <td>5.57</td>\n",
       "      <td>20.6</td>\n",
       "    </tr>\n",
       "    <tr>\n",
       "      <th>5</th>\n",
       "      <td>356</td>\n",
       "      <td>8.98296</td>\n",
       "      <td>0</td>\n",
       "      <td>18.10</td>\n",
       "      <td>1</td>\n",
       "      <td>0.770</td>\n",
       "      <td>6.212</td>\n",
       "      <td>97.4</td>\n",
       "      <td>2.1222</td>\n",
       "      <td>24</td>\n",
       "      <td>666</td>\n",
       "      <td>20.2</td>\n",
       "      <td>377.73</td>\n",
       "      <td>17.60</td>\n",
       "      <td>17.8</td>\n",
       "    </tr>\n",
       "    <tr>\n",
       "      <th>6</th>\n",
       "      <td>357</td>\n",
       "      <td>3.84970</td>\n",
       "      <td>0</td>\n",
       "      <td>18.10</td>\n",
       "      <td>1</td>\n",
       "      <td>0.770</td>\n",
       "      <td>6.395</td>\n",
       "      <td>91.0</td>\n",
       "      <td>2.5052</td>\n",
       "      <td>24</td>\n",
       "      <td>666</td>\n",
       "      <td>20.2</td>\n",
       "      <td>391.34</td>\n",
       "      <td>13.27</td>\n",
       "      <td>21.7</td>\n",
       "    </tr>\n",
       "  </tbody>\n",
       "</table>\n",
       "</div>"
      ],
      "text/plain": [
       "   Unnamed: 0     crim  zn  indus  chas    nox     rm   age      dis  rad  \\\n",
       "0         351  0.07950  60   1.69     0  0.411  6.579  35.9  10.7103    4   \n",
       "1         352  0.07244  60   1.69     0  0.411  5.884  18.5  10.7103    4   \n",
       "2         353  0.01709  90   2.02     0  0.410  6.728  36.1  12.1265    5   \n",
       "3         354  0.04301  80   1.91     0  0.413  5.663  21.9  10.5857    4   \n",
       "4         355  0.10659  80   1.91     0  0.413  5.936  19.5  10.5857    4   \n",
       "5         356  8.98296   0  18.10     1  0.770  6.212  97.4   2.1222   24   \n",
       "6         357  3.84970   0  18.10     1  0.770  6.395  91.0   2.5052   24   \n",
       "\n",
       "   tax  ptratio   black  lstat  medv  \n",
       "0  411     18.3  370.78   5.49  24.1  \n",
       "1  411     18.3  392.33   7.79  18.6  \n",
       "2  187     17.0  384.46   4.50  30.1  \n",
       "3  334     22.0  382.80   8.05  18.2  \n",
       "4  334     22.0  376.04   5.57  20.6  \n",
       "5  666     20.2  377.73  17.60  17.8  \n",
       "6  666     20.2  391.34  13.27  21.7  "
      ]
     },
     "execution_count": 50,
     "metadata": {},
     "output_type": "execute_result"
    }
   ],
   "source": [
    "Boston_test.head(7)"
   ]
  },
  {
   "cell_type": "code",
   "execution_count": 51,
   "id": "191570fe",
   "metadata": {},
   "outputs": [
    {
     "data": {
      "text/html": [
       "<div>\n",
       "<style scoped>\n",
       "    .dataframe tbody tr th:only-of-type {\n",
       "        vertical-align: middle;\n",
       "    }\n",
       "\n",
       "    .dataframe tbody tr th {\n",
       "        vertical-align: top;\n",
       "    }\n",
       "\n",
       "    .dataframe thead th {\n",
       "        text-align: right;\n",
       "    }\n",
       "</style>\n",
       "<table border=\"1\" class=\"dataframe\">\n",
       "  <thead>\n",
       "    <tr style=\"text-align: right;\">\n",
       "      <th></th>\n",
       "      <th>Unnamed: 0</th>\n",
       "      <th>crim</th>\n",
       "      <th>zn</th>\n",
       "      <th>indus</th>\n",
       "      <th>chas</th>\n",
       "      <th>nox</th>\n",
       "      <th>rm</th>\n",
       "      <th>age</th>\n",
       "      <th>dis</th>\n",
       "      <th>rad</th>\n",
       "      <th>tax</th>\n",
       "      <th>ptratio</th>\n",
       "      <th>black</th>\n",
       "      <th>lstat</th>\n",
       "      <th>medv</th>\n",
       "    </tr>\n",
       "  </thead>\n",
       "  <tbody>\n",
       "    <tr>\n",
       "      <th>148</th>\n",
       "      <td>499</td>\n",
       "      <td>0.17783</td>\n",
       "      <td>0</td>\n",
       "      <td>9.69</td>\n",
       "      <td>0</td>\n",
       "      <td>0.585</td>\n",
       "      <td>5.569</td>\n",
       "      <td>73.5</td>\n",
       "      <td>2.3999</td>\n",
       "      <td>6</td>\n",
       "      <td>391</td>\n",
       "      <td>19.2</td>\n",
       "      <td>395.77</td>\n",
       "      <td>15.10</td>\n",
       "      <td>17.5</td>\n",
       "    </tr>\n",
       "    <tr>\n",
       "      <th>149</th>\n",
       "      <td>500</td>\n",
       "      <td>0.22438</td>\n",
       "      <td>0</td>\n",
       "      <td>9.69</td>\n",
       "      <td>0</td>\n",
       "      <td>0.585</td>\n",
       "      <td>6.027</td>\n",
       "      <td>79.7</td>\n",
       "      <td>2.4982</td>\n",
       "      <td>6</td>\n",
       "      <td>391</td>\n",
       "      <td>19.2</td>\n",
       "      <td>396.90</td>\n",
       "      <td>14.33</td>\n",
       "      <td>16.8</td>\n",
       "    </tr>\n",
       "    <tr>\n",
       "      <th>150</th>\n",
       "      <td>501</td>\n",
       "      <td>0.06263</td>\n",
       "      <td>0</td>\n",
       "      <td>11.93</td>\n",
       "      <td>0</td>\n",
       "      <td>0.573</td>\n",
       "      <td>6.593</td>\n",
       "      <td>69.1</td>\n",
       "      <td>2.4786</td>\n",
       "      <td>1</td>\n",
       "      <td>273</td>\n",
       "      <td>21.0</td>\n",
       "      <td>391.99</td>\n",
       "      <td>9.67</td>\n",
       "      <td>22.4</td>\n",
       "    </tr>\n",
       "    <tr>\n",
       "      <th>151</th>\n",
       "      <td>502</td>\n",
       "      <td>0.04527</td>\n",
       "      <td>0</td>\n",
       "      <td>11.93</td>\n",
       "      <td>0</td>\n",
       "      <td>0.573</td>\n",
       "      <td>6.120</td>\n",
       "      <td>76.7</td>\n",
       "      <td>2.2875</td>\n",
       "      <td>1</td>\n",
       "      <td>273</td>\n",
       "      <td>21.0</td>\n",
       "      <td>396.90</td>\n",
       "      <td>9.08</td>\n",
       "      <td>20.6</td>\n",
       "    </tr>\n",
       "    <tr>\n",
       "      <th>152</th>\n",
       "      <td>503</td>\n",
       "      <td>0.06076</td>\n",
       "      <td>0</td>\n",
       "      <td>11.93</td>\n",
       "      <td>0</td>\n",
       "      <td>0.573</td>\n",
       "      <td>6.976</td>\n",
       "      <td>91.0</td>\n",
       "      <td>2.1675</td>\n",
       "      <td>1</td>\n",
       "      <td>273</td>\n",
       "      <td>21.0</td>\n",
       "      <td>396.90</td>\n",
       "      <td>5.64</td>\n",
       "      <td>23.9</td>\n",
       "    </tr>\n",
       "    <tr>\n",
       "      <th>153</th>\n",
       "      <td>504</td>\n",
       "      <td>0.10959</td>\n",
       "      <td>0</td>\n",
       "      <td>11.93</td>\n",
       "      <td>0</td>\n",
       "      <td>0.573</td>\n",
       "      <td>6.794</td>\n",
       "      <td>89.3</td>\n",
       "      <td>2.3889</td>\n",
       "      <td>1</td>\n",
       "      <td>273</td>\n",
       "      <td>21.0</td>\n",
       "      <td>393.45</td>\n",
       "      <td>6.48</td>\n",
       "      <td>22.0</td>\n",
       "    </tr>\n",
       "    <tr>\n",
       "      <th>154</th>\n",
       "      <td>505</td>\n",
       "      <td>0.04741</td>\n",
       "      <td>0</td>\n",
       "      <td>11.93</td>\n",
       "      <td>0</td>\n",
       "      <td>0.573</td>\n",
       "      <td>6.030</td>\n",
       "      <td>80.8</td>\n",
       "      <td>2.5050</td>\n",
       "      <td>1</td>\n",
       "      <td>273</td>\n",
       "      <td>21.0</td>\n",
       "      <td>396.90</td>\n",
       "      <td>7.88</td>\n",
       "      <td>11.9</td>\n",
       "    </tr>\n",
       "  </tbody>\n",
       "</table>\n",
       "</div>"
      ],
      "text/plain": [
       "     Unnamed: 0     crim  zn  indus  chas    nox     rm   age     dis  rad  \\\n",
       "148         499  0.17783   0   9.69     0  0.585  5.569  73.5  2.3999    6   \n",
       "149         500  0.22438   0   9.69     0  0.585  6.027  79.7  2.4982    6   \n",
       "150         501  0.06263   0  11.93     0  0.573  6.593  69.1  2.4786    1   \n",
       "151         502  0.04527   0  11.93     0  0.573  6.120  76.7  2.2875    1   \n",
       "152         503  0.06076   0  11.93     0  0.573  6.976  91.0  2.1675    1   \n",
       "153         504  0.10959   0  11.93     0  0.573  6.794  89.3  2.3889    1   \n",
       "154         505  0.04741   0  11.93     0  0.573  6.030  80.8  2.5050    1   \n",
       "\n",
       "     tax  ptratio   black  lstat  medv  \n",
       "148  391     19.2  395.77  15.10  17.5  \n",
       "149  391     19.2  396.90  14.33  16.8  \n",
       "150  273     21.0  391.99   9.67  22.4  \n",
       "151  273     21.0  396.90   9.08  20.6  \n",
       "152  273     21.0  396.90   5.64  23.9  \n",
       "153  273     21.0  393.45   6.48  22.0  \n",
       "154  273     21.0  396.90   7.88  11.9  "
      ]
     },
     "execution_count": 51,
     "metadata": {},
     "output_type": "execute_result"
    }
   ],
   "source": [
    "Boston_test.tail(7)"
   ]
  },
  {
   "cell_type": "markdown",
   "id": "3aea5f5f",
   "metadata": {},
   "source": [
    "# Information about the Data & Stats"
   ]
  },
  {
   "cell_type": "code",
   "execution_count": 52,
   "id": "f31b21fc",
   "metadata": {},
   "outputs": [
    {
     "name": "stdout",
     "output_type": "stream",
     "text": [
      "<class 'pandas.core.frame.DataFrame'>\n",
      "RangeIndex: 351 entries, 0 to 350\n",
      "Data columns (total 15 columns):\n",
      " #   Column      Non-Null Count  Dtype  \n",
      "---  ------      --------------  -----  \n",
      " 0   Unnamed: 0  351 non-null    int64  \n",
      " 1   crim        351 non-null    float64\n",
      " 2   zn          351 non-null    float64\n",
      " 3   indus       351 non-null    float64\n",
      " 4   chas        351 non-null    int64  \n",
      " 5   nox         351 non-null    float64\n",
      " 6   rm          351 non-null    float64\n",
      " 7   age         351 non-null    float64\n",
      " 8   dis         351 non-null    float64\n",
      " 9   rad         351 non-null    int64  \n",
      " 10  tax         351 non-null    int64  \n",
      " 11  ptratio     351 non-null    float64\n",
      " 12  black       351 non-null    float64\n",
      " 13  lstat       351 non-null    float64\n",
      " 14  medv        351 non-null    float64\n",
      "dtypes: float64(11), int64(4)\n",
      "memory usage: 41.3 KB\n"
     ]
    }
   ],
   "source": [
    "#information on data set\n",
    "Boston_train.info()                                           # For train dataset"
   ]
  },
  {
   "cell_type": "code",
   "execution_count": 53,
   "id": "9381adbb",
   "metadata": {},
   "outputs": [
    {
     "data": {
      "text/plain": [
       "(351, 15)"
      ]
     },
     "execution_count": 53,
     "metadata": {},
     "output_type": "execute_result"
    }
   ],
   "source": [
    "Boston_train.shape                                         #  351- rows and 15-columns"
   ]
  },
  {
   "cell_type": "code",
   "execution_count": 54,
   "id": "92b693d0",
   "metadata": {},
   "outputs": [
    {
     "name": "stdout",
     "output_type": "stream",
     "text": [
      "<class 'pandas.core.frame.DataFrame'>\n",
      "RangeIndex: 155 entries, 0 to 154\n",
      "Data columns (total 15 columns):\n",
      " #   Column      Non-Null Count  Dtype  \n",
      "---  ------      --------------  -----  \n",
      " 0   Unnamed: 0  155 non-null    int64  \n",
      " 1   crim        155 non-null    float64\n",
      " 2   zn          155 non-null    int64  \n",
      " 3   indus       155 non-null    float64\n",
      " 4   chas        155 non-null    int64  \n",
      " 5   nox         155 non-null    float64\n",
      " 6   rm          155 non-null    float64\n",
      " 7   age         155 non-null    float64\n",
      " 8   dis         155 non-null    float64\n",
      " 9   rad         155 non-null    int64  \n",
      " 10  tax         155 non-null    int64  \n",
      " 11  ptratio     155 non-null    float64\n",
      " 12  black       155 non-null    float64\n",
      " 13  lstat       155 non-null    float64\n",
      " 14  medv        155 non-null    float64\n",
      "dtypes: float64(10), int64(5)\n",
      "memory usage: 18.3 KB\n"
     ]
    }
   ],
   "source": [
    "#information on data set\n",
    "Boston_test.info()                                           # For Test dataset"
   ]
  },
  {
   "cell_type": "code",
   "execution_count": 55,
   "id": "186db229",
   "metadata": {},
   "outputs": [
    {
     "data": {
      "text/plain": [
       "(155, 15)"
      ]
     },
     "execution_count": 55,
     "metadata": {},
     "output_type": "execute_result"
    }
   ],
   "source": [
    "Boston_test.shape                                                          #155 rows and 15 columns"
   ]
  },
  {
   "cell_type": "markdown",
   "id": "44d121b6",
   "metadata": {},
   "source": [
    "# Statistics"
   ]
  },
  {
   "cell_type": "code",
   "execution_count": 56,
   "id": "b4913330",
   "metadata": {},
   "outputs": [
    {
     "data": {
      "text/html": [
       "<div>\n",
       "<style scoped>\n",
       "    .dataframe tbody tr th:only-of-type {\n",
       "        vertical-align: middle;\n",
       "    }\n",
       "\n",
       "    .dataframe tbody tr th {\n",
       "        vertical-align: top;\n",
       "    }\n",
       "\n",
       "    .dataframe thead th {\n",
       "        text-align: right;\n",
       "    }\n",
       "</style>\n",
       "<table border=\"1\" class=\"dataframe\">\n",
       "  <thead>\n",
       "    <tr style=\"text-align: right;\">\n",
       "      <th></th>\n",
       "      <th>Unnamed: 0</th>\n",
       "      <th>crim</th>\n",
       "      <th>zn</th>\n",
       "      <th>indus</th>\n",
       "      <th>chas</th>\n",
       "      <th>nox</th>\n",
       "      <th>rm</th>\n",
       "      <th>age</th>\n",
       "      <th>dis</th>\n",
       "      <th>rad</th>\n",
       "      <th>tax</th>\n",
       "      <th>ptratio</th>\n",
       "      <th>black</th>\n",
       "      <th>lstat</th>\n",
       "      <th>medv</th>\n",
       "    </tr>\n",
       "  </thead>\n",
       "  <tbody>\n",
       "    <tr>\n",
       "      <th>count</th>\n",
       "      <td>351.000000</td>\n",
       "      <td>351.000000</td>\n",
       "      <td>351.000000</td>\n",
       "      <td>351.000000</td>\n",
       "      <td>351.000000</td>\n",
       "      <td>351.000000</td>\n",
       "      <td>351.000000</td>\n",
       "      <td>351.000000</td>\n",
       "      <td>351.000000</td>\n",
       "      <td>351.000000</td>\n",
       "      <td>351.000000</td>\n",
       "      <td>351.000000</td>\n",
       "      <td>351.000000</td>\n",
       "      <td>351.000000</td>\n",
       "      <td>351.000000</td>\n",
       "    </tr>\n",
       "    <tr>\n",
       "      <th>mean</th>\n",
       "      <td>175.000000</td>\n",
       "      <td>0.401659</td>\n",
       "      <td>15.327635</td>\n",
       "      <td>8.435670</td>\n",
       "      <td>0.076923</td>\n",
       "      <td>0.510737</td>\n",
       "      <td>6.403900</td>\n",
       "      <td>60.817949</td>\n",
       "      <td>4.420862</td>\n",
       "      <td>4.472934</td>\n",
       "      <td>310.344729</td>\n",
       "      <td>17.707692</td>\n",
       "      <td>380.489174</td>\n",
       "      <td>10.407692</td>\n",
       "      <td>25.062678</td>\n",
       "    </tr>\n",
       "    <tr>\n",
       "      <th>std</th>\n",
       "      <td>101.469207</td>\n",
       "      <td>0.641716</td>\n",
       "      <td>25.605040</td>\n",
       "      <td>6.088947</td>\n",
       "      <td>0.266850</td>\n",
       "      <td>0.102256</td>\n",
       "      <td>0.676424</td>\n",
       "      <td>28.393094</td>\n",
       "      <td>1.968666</td>\n",
       "      <td>1.615543</td>\n",
       "      <td>67.577707</td>\n",
       "      <td>2.198252</td>\n",
       "      <td>40.455904</td>\n",
       "      <td>5.888639</td>\n",
       "      <td>8.461918</td>\n",
       "    </tr>\n",
       "    <tr>\n",
       "      <th>min</th>\n",
       "      <td>0.000000</td>\n",
       "      <td>0.006320</td>\n",
       "      <td>0.000000</td>\n",
       "      <td>0.460000</td>\n",
       "      <td>0.000000</td>\n",
       "      <td>0.385000</td>\n",
       "      <td>4.903000</td>\n",
       "      <td>2.900000</td>\n",
       "      <td>1.321600</td>\n",
       "      <td>1.000000</td>\n",
       "      <td>188.000000</td>\n",
       "      <td>12.600000</td>\n",
       "      <td>70.800000</td>\n",
       "      <td>1.730000</td>\n",
       "      <td>11.800000</td>\n",
       "    </tr>\n",
       "    <tr>\n",
       "      <th>25%</th>\n",
       "      <td>87.500000</td>\n",
       "      <td>0.057845</td>\n",
       "      <td>0.000000</td>\n",
       "      <td>4.025000</td>\n",
       "      <td>0.000000</td>\n",
       "      <td>0.437450</td>\n",
       "      <td>5.949500</td>\n",
       "      <td>36.150000</td>\n",
       "      <td>2.768500</td>\n",
       "      <td>4.000000</td>\n",
       "      <td>264.000000</td>\n",
       "      <td>16.100000</td>\n",
       "      <td>383.670000</td>\n",
       "      <td>6.095000</td>\n",
       "      <td>19.500000</td>\n",
       "    </tr>\n",
       "    <tr>\n",
       "      <th>50%</th>\n",
       "      <td>175.000000</td>\n",
       "      <td>0.132620</td>\n",
       "      <td>0.000000</td>\n",
       "      <td>6.200000</td>\n",
       "      <td>0.000000</td>\n",
       "      <td>0.493000</td>\n",
       "      <td>6.266000</td>\n",
       "      <td>62.000000</td>\n",
       "      <td>4.095200</td>\n",
       "      <td>4.000000</td>\n",
       "      <td>304.000000</td>\n",
       "      <td>17.900000</td>\n",
       "      <td>392.690000</td>\n",
       "      <td>9.380000</td>\n",
       "      <td>22.900000</td>\n",
       "    </tr>\n",
       "    <tr>\n",
       "      <th>75%</th>\n",
       "      <td>262.500000</td>\n",
       "      <td>0.404865</td>\n",
       "      <td>22.000000</td>\n",
       "      <td>10.010000</td>\n",
       "      <td>0.000000</td>\n",
       "      <td>0.544000</td>\n",
       "      <td>6.733000</td>\n",
       "      <td>88.450000</td>\n",
       "      <td>5.871800</td>\n",
       "      <td>5.000000</td>\n",
       "      <td>358.000000</td>\n",
       "      <td>19.100000</td>\n",
       "      <td>396.220000</td>\n",
       "      <td>13.210000</td>\n",
       "      <td>28.700000</td>\n",
       "    </tr>\n",
       "    <tr>\n",
       "      <th>max</th>\n",
       "      <td>350.000000</td>\n",
       "      <td>4.097400</td>\n",
       "      <td>100.000000</td>\n",
       "      <td>25.650000</td>\n",
       "      <td>1.000000</td>\n",
       "      <td>0.871000</td>\n",
       "      <td>8.725000</td>\n",
       "      <td>100.000000</td>\n",
       "      <td>9.222900</td>\n",
       "      <td>8.000000</td>\n",
       "      <td>469.000000</td>\n",
       "      <td>21.200000</td>\n",
       "      <td>396.900000</td>\n",
       "      <td>34.410000</td>\n",
       "      <td>50.000000</td>\n",
       "    </tr>\n",
       "  </tbody>\n",
       "</table>\n",
       "</div>"
      ],
      "text/plain": [
       "       Unnamed: 0        crim          zn       indus        chas         nox  \\\n",
       "count  351.000000  351.000000  351.000000  351.000000  351.000000  351.000000   \n",
       "mean   175.000000    0.401659   15.327635    8.435670    0.076923    0.510737   \n",
       "std    101.469207    0.641716   25.605040    6.088947    0.266850    0.102256   \n",
       "min      0.000000    0.006320    0.000000    0.460000    0.000000    0.385000   \n",
       "25%     87.500000    0.057845    0.000000    4.025000    0.000000    0.437450   \n",
       "50%    175.000000    0.132620    0.000000    6.200000    0.000000    0.493000   \n",
       "75%    262.500000    0.404865   22.000000   10.010000    0.000000    0.544000   \n",
       "max    350.000000    4.097400  100.000000   25.650000    1.000000    0.871000   \n",
       "\n",
       "               rm         age         dis         rad         tax     ptratio  \\\n",
       "count  351.000000  351.000000  351.000000  351.000000  351.000000  351.000000   \n",
       "mean     6.403900   60.817949    4.420862    4.472934  310.344729   17.707692   \n",
       "std      0.676424   28.393094    1.968666    1.615543   67.577707    2.198252   \n",
       "min      4.903000    2.900000    1.321600    1.000000  188.000000   12.600000   \n",
       "25%      5.949500   36.150000    2.768500    4.000000  264.000000   16.100000   \n",
       "50%      6.266000   62.000000    4.095200    4.000000  304.000000   17.900000   \n",
       "75%      6.733000   88.450000    5.871800    5.000000  358.000000   19.100000   \n",
       "max      8.725000  100.000000    9.222900    8.000000  469.000000   21.200000   \n",
       "\n",
       "            black       lstat        medv  \n",
       "count  351.000000  351.000000  351.000000  \n",
       "mean   380.489174   10.407692   25.062678  \n",
       "std     40.455904    5.888639    8.461918  \n",
       "min     70.800000    1.730000   11.800000  \n",
       "25%    383.670000    6.095000   19.500000  \n",
       "50%    392.690000    9.380000   22.900000  \n",
       "75%    396.220000   13.210000   28.700000  \n",
       "max    396.900000   34.410000   50.000000  "
      ]
     },
     "execution_count": 56,
     "metadata": {},
     "output_type": "execute_result"
    }
   ],
   "source": [
    "#Statistics on data as i describes the composition of data \n",
    "Boston_train.describe()"
   ]
  },
  {
   "cell_type": "code",
   "execution_count": 57,
   "id": "9732a6e2",
   "metadata": {},
   "outputs": [
    {
     "data": {
      "text/html": [
       "<div>\n",
       "<style scoped>\n",
       "    .dataframe tbody tr th:only-of-type {\n",
       "        vertical-align: middle;\n",
       "    }\n",
       "\n",
       "    .dataframe tbody tr th {\n",
       "        vertical-align: top;\n",
       "    }\n",
       "\n",
       "    .dataframe thead th {\n",
       "        text-align: right;\n",
       "    }\n",
       "</style>\n",
       "<table border=\"1\" class=\"dataframe\">\n",
       "  <thead>\n",
       "    <tr style=\"text-align: right;\">\n",
       "      <th></th>\n",
       "      <th>Unnamed: 0</th>\n",
       "      <th>crim</th>\n",
       "      <th>zn</th>\n",
       "      <th>indus</th>\n",
       "      <th>chas</th>\n",
       "      <th>nox</th>\n",
       "      <th>rm</th>\n",
       "      <th>age</th>\n",
       "      <th>dis</th>\n",
       "      <th>rad</th>\n",
       "      <th>tax</th>\n",
       "      <th>ptratio</th>\n",
       "      <th>black</th>\n",
       "      <th>lstat</th>\n",
       "      <th>medv</th>\n",
       "    </tr>\n",
       "  </thead>\n",
       "  <tbody>\n",
       "    <tr>\n",
       "      <th>count</th>\n",
       "      <td>155.000000</td>\n",
       "      <td>155.000000</td>\n",
       "      <td>155.000000</td>\n",
       "      <td>155.000000</td>\n",
       "      <td>155.000000</td>\n",
       "      <td>155.000000</td>\n",
       "      <td>155.000000</td>\n",
       "      <td>155.000000</td>\n",
       "      <td>155.000000</td>\n",
       "      <td>155.000000</td>\n",
       "      <td>155.000000</td>\n",
       "      <td>155.000000</td>\n",
       "      <td>155.000000</td>\n",
       "      <td>155.000000</td>\n",
       "      <td>155.000000</td>\n",
       "    </tr>\n",
       "    <tr>\n",
       "      <th>mean</th>\n",
       "      <td>428.000000</td>\n",
       "      <td>10.886843</td>\n",
       "      <td>2.387097</td>\n",
       "      <td>17.253484</td>\n",
       "      <td>0.051613</td>\n",
       "      <td>0.654239</td>\n",
       "      <td>6.014555</td>\n",
       "      <td>86.140645</td>\n",
       "      <td>2.377864</td>\n",
       "      <td>21.045161</td>\n",
       "      <td>629.916129</td>\n",
       "      <td>20.149032</td>\n",
       "      <td>302.744258</td>\n",
       "      <td>17.737742</td>\n",
       "      <td>16.803871</td>\n",
       "    </tr>\n",
       "    <tr>\n",
       "      <th>std</th>\n",
       "      <td>44.888751</td>\n",
       "      <td>12.842318</td>\n",
       "      <td>13.294070</td>\n",
       "      <td>3.973223</td>\n",
       "      <td>0.221961</td>\n",
       "      <td>0.076748</td>\n",
       "      <td>0.687848</td>\n",
       "      <td>17.844278</td>\n",
       "      <td>1.678612</td>\n",
       "      <td>7.137192</td>\n",
       "      <td>107.071159</td>\n",
       "      <td>0.475281</td>\n",
       "      <td>139.254349</td>\n",
       "      <td>7.134484</td>\n",
       "      <td>8.186613</td>\n",
       "    </tr>\n",
       "    <tr>\n",
       "      <th>min</th>\n",
       "      <td>351.000000</td>\n",
       "      <td>0.017090</td>\n",
       "      <td>0.000000</td>\n",
       "      <td>1.690000</td>\n",
       "      <td>0.000000</td>\n",
       "      <td>0.410000</td>\n",
       "      <td>3.561000</td>\n",
       "      <td>18.500000</td>\n",
       "      <td>1.129600</td>\n",
       "      <td>1.000000</td>\n",
       "      <td>187.000000</td>\n",
       "      <td>17.000000</td>\n",
       "      <td>0.320000</td>\n",
       "      <td>2.960000</td>\n",
       "      <td>5.000000</td>\n",
       "    </tr>\n",
       "    <tr>\n",
       "      <th>25%</th>\n",
       "      <td>389.500000</td>\n",
       "      <td>4.385535</td>\n",
       "      <td>0.000000</td>\n",
       "      <td>18.100000</td>\n",
       "      <td>0.000000</td>\n",
       "      <td>0.591000</td>\n",
       "      <td>5.695000</td>\n",
       "      <td>81.900000</td>\n",
       "      <td>1.643250</td>\n",
       "      <td>24.000000</td>\n",
       "      <td>666.000000</td>\n",
       "      <td>20.200000</td>\n",
       "      <td>288.690000</td>\n",
       "      <td>13.335000</td>\n",
       "      <td>11.750000</td>\n",
       "    </tr>\n",
       "    <tr>\n",
       "      <th>50%</th>\n",
       "      <td>428.000000</td>\n",
       "      <td>7.839320</td>\n",
       "      <td>0.000000</td>\n",
       "      <td>18.100000</td>\n",
       "      <td>0.000000</td>\n",
       "      <td>0.679000</td>\n",
       "      <td>6.112000</td>\n",
       "      <td>92.600000</td>\n",
       "      <td>2.004800</td>\n",
       "      <td>24.000000</td>\n",
       "      <td>666.000000</td>\n",
       "      <td>20.200000</td>\n",
       "      <td>378.380000</td>\n",
       "      <td>17.270000</td>\n",
       "      <td>15.100000</td>\n",
       "    </tr>\n",
       "    <tr>\n",
       "      <th>75%</th>\n",
       "      <td>466.500000</td>\n",
       "      <td>13.441000</td>\n",
       "      <td>0.000000</td>\n",
       "      <td>18.100000</td>\n",
       "      <td>0.000000</td>\n",
       "      <td>0.713000</td>\n",
       "      <td>6.414000</td>\n",
       "      <td>98.250000</td>\n",
       "      <td>2.501600</td>\n",
       "      <td>24.000000</td>\n",
       "      <td>666.000000</td>\n",
       "      <td>20.200000</td>\n",
       "      <td>396.555000</td>\n",
       "      <td>21.945000</td>\n",
       "      <td>20.600000</td>\n",
       "    </tr>\n",
       "    <tr>\n",
       "      <th>max</th>\n",
       "      <td>505.000000</td>\n",
       "      <td>88.976200</td>\n",
       "      <td>90.000000</td>\n",
       "      <td>27.740000</td>\n",
       "      <td>1.000000</td>\n",
       "      <td>0.770000</td>\n",
       "      <td>8.780000</td>\n",
       "      <td>100.000000</td>\n",
       "      <td>12.126500</td>\n",
       "      <td>24.000000</td>\n",
       "      <td>711.000000</td>\n",
       "      <td>22.000000</td>\n",
       "      <td>396.900000</td>\n",
       "      <td>37.970000</td>\n",
       "      <td>50.000000</td>\n",
       "    </tr>\n",
       "  </tbody>\n",
       "</table>\n",
       "</div>"
      ],
      "text/plain": [
       "       Unnamed: 0        crim          zn       indus        chas         nox  \\\n",
       "count  155.000000  155.000000  155.000000  155.000000  155.000000  155.000000   \n",
       "mean   428.000000   10.886843    2.387097   17.253484    0.051613    0.654239   \n",
       "std     44.888751   12.842318   13.294070    3.973223    0.221961    0.076748   \n",
       "min    351.000000    0.017090    0.000000    1.690000    0.000000    0.410000   \n",
       "25%    389.500000    4.385535    0.000000   18.100000    0.000000    0.591000   \n",
       "50%    428.000000    7.839320    0.000000   18.100000    0.000000    0.679000   \n",
       "75%    466.500000   13.441000    0.000000   18.100000    0.000000    0.713000   \n",
       "max    505.000000   88.976200   90.000000   27.740000    1.000000    0.770000   \n",
       "\n",
       "               rm         age         dis         rad         tax     ptratio  \\\n",
       "count  155.000000  155.000000  155.000000  155.000000  155.000000  155.000000   \n",
       "mean     6.014555   86.140645    2.377864   21.045161  629.916129   20.149032   \n",
       "std      0.687848   17.844278    1.678612    7.137192  107.071159    0.475281   \n",
       "min      3.561000   18.500000    1.129600    1.000000  187.000000   17.000000   \n",
       "25%      5.695000   81.900000    1.643250   24.000000  666.000000   20.200000   \n",
       "50%      6.112000   92.600000    2.004800   24.000000  666.000000   20.200000   \n",
       "75%      6.414000   98.250000    2.501600   24.000000  666.000000   20.200000   \n",
       "max      8.780000  100.000000   12.126500   24.000000  711.000000   22.000000   \n",
       "\n",
       "            black       lstat        medv  \n",
       "count  155.000000  155.000000  155.000000  \n",
       "mean   302.744258   17.737742   16.803871  \n",
       "std    139.254349    7.134484    8.186613  \n",
       "min      0.320000    2.960000    5.000000  \n",
       "25%    288.690000   13.335000   11.750000  \n",
       "50%    378.380000   17.270000   15.100000  \n",
       "75%    396.555000   21.945000   20.600000  \n",
       "max    396.900000   37.970000   50.000000  "
      ]
     },
     "execution_count": 57,
     "metadata": {},
     "output_type": "execute_result"
    }
   ],
   "source": [
    "Boston_test.describe()"
   ]
  },
  {
   "cell_type": "markdown",
   "id": "7536dbb7",
   "metadata": {},
   "source": [
    "# Preprocessing & Explanatory Data analysis"
   ]
  },
  {
   "cell_type": "code",
   "execution_count": 58,
   "id": "73bc7595",
   "metadata": {},
   "outputs": [
    {
     "data": {
      "text/plain": [
       "Unnamed: 0    0\n",
       "crim          0\n",
       "zn            0\n",
       "indus         0\n",
       "chas          0\n",
       "nox           0\n",
       "rm            0\n",
       "age           0\n",
       "dis           0\n",
       "rad           0\n",
       "tax           0\n",
       "ptratio       0\n",
       "black         0\n",
       "lstat         0\n",
       "medv          0\n",
       "dtype: int64"
      ]
     },
     "execution_count": 58,
     "metadata": {},
     "output_type": "execute_result"
    }
   ],
   "source": [
    "#check for null values\n",
    "Boston_train.isnull().sum()"
   ]
  },
  {
   "cell_type": "code",
   "execution_count": 59,
   "id": "5a7b57e1",
   "metadata": {},
   "outputs": [
    {
     "data": {
      "text/plain": [
       "Unnamed: 0    0\n",
       "crim          0\n",
       "zn            0\n",
       "indus         0\n",
       "chas          0\n",
       "nox           0\n",
       "rm            0\n",
       "age           0\n",
       "dis           0\n",
       "rad           0\n",
       "tax           0\n",
       "ptratio       0\n",
       "black         0\n",
       "lstat         0\n",
       "medv          0\n",
       "dtype: int64"
      ]
     },
     "execution_count": 59,
     "metadata": {},
     "output_type": "execute_result"
    }
   ],
   "source": [
    "Boston_test.isnull().sum()"
   ]
  },
  {
   "cell_type": "code",
   "execution_count": 60,
   "id": "408ef4f7",
   "metadata": {},
   "outputs": [
    {
     "data": {
      "text/plain": [
       "(15, 15)"
      ]
     },
     "execution_count": 60,
     "metadata": {},
     "output_type": "execute_result"
    }
   ],
   "source": [
    "# Finding out the correlation between the columns .i.e. what is the relation between the columns or featuers in the dataset\n",
    "CR =Boston_train.corr()\n",
    "CR.shape"
   ]
  },
  {
   "cell_type": "markdown",
   "id": "0912ba4c",
   "metadata": {},
   "source": [
    "# Visualization"
   ]
  },
  {
   "cell_type": "code",
   "execution_count": 61,
   "id": "f61a4da4",
   "metadata": {},
   "outputs": [
    {
     "data": {
      "text/plain": [
       "<AxesSubplot:>"
      ]
     },
     "execution_count": 61,
     "metadata": {},
     "output_type": "execute_result"
    },
    {
     "data": {
      "image/png": "[encoded data removed]",
      "text/plain": [
       "<Figure size 1080x1080 with 2 Axes>"
      ]
     },
     "metadata": {
      "needs_background": "light"
     },
     "output_type": "display_data"
    }
   ],
   "source": [
    "# Plotting the correlation between features\n",
    "plt.figure(figsize=(15,15))\n",
    "sns.heatmap(CR, cbar=True, square= True, fmt='.1f', annot=True, annot_kws={'size':15}, cmap='Blues')"
   ]
  },
  {
   "cell_type": "code",
   "execution_count": 62,
   "id": "0697599f",
   "metadata": {},
   "outputs": [],
   "source": [
    "X_train=Boston_train.drop('medv',axis=1)"
   ]
  },
  {
   "cell_type": "code",
   "execution_count": 63,
   "id": "260f471c",
   "metadata": {},
   "outputs": [],
   "source": [
    "Y_train=Boston_train['medv']"
   ]
  },
  {
   "cell_type": "markdown",
   "id": "fb2b3f55",
   "metadata": {},
   "source": [
    "# Importing Linear regression model ---Training the Model"
   ]
  },
  {
   "cell_type": "code",
   "execution_count": 64,
   "id": "c3d0aa6a",
   "metadata": {},
   "outputs": [],
   "source": [
    " # Import library for Linear Regression\n",
    "from sklearn.linear_model import LinearRegression"
   ]
  },
  {
   "cell_type": "code",
   "execution_count": 65,
   "id": "e741db69",
   "metadata": {},
   "outputs": [],
   "source": [
    "# Creating a Linear regressor variavle\n",
    "LR = LinearRegression()"
   ]
  },
  {
   "cell_type": "code",
   "execution_count": 66,
   "id": "a4650ed3",
   "metadata": {},
   "outputs": [
    {
     "data": {
      "text/plain": [
       "LinearRegression()"
      ]
     },
     "execution_count": 66,
     "metadata": {},
     "output_type": "execute_result"
    }
   ],
   "source": [
    "LR.fit(X_train,Y_train)"
   ]
  },
  {
   "cell_type": "code",
   "execution_count": 67,
   "id": "61302305",
   "metadata": {},
   "outputs": [],
   "source": [
    "Pred=LR.predict(X_train)"
   ]
  },
  {
   "cell_type": "markdown",
   "id": "2459d633",
   "metadata": {},
   "source": [
    "# Visualizing the differences between actual prices and predicted values"
   ]
  },
  {
   "cell_type": "code",
   "execution_count": 68,
   "id": "d323fa7e",
   "metadata": {
    "scrolled": true
   },
   "outputs": [
    {
     "data": {
      "image/png": "[encoded data removed]",
      "text/plain": [
       "<Figure size 648x432 with 1 Axes>"
      ]
     },
     "metadata": {
      "needs_background": "light"
     },
     "output_type": "display_data"
    }
   ],
   "source": [
    "plt.figure(figsize=(9,6))\n",
    "plt.scatter(Y_train,Pred)\n",
    "plt.xlabel(\"Prices\")\n",
    "plt.ylabel(\"Predicted prices\")\n",
    "plt.title(\"Prices vs Predicted prices\")\n",
    "plt.show()"
   ]
  },
  {
   "cell_type": "code",
   "execution_count": 69,
   "id": "6407e6e9",
   "metadata": {},
   "outputs": [
    {
     "data": {
      "text/plain": [
       "<seaborn.axisgrid.FacetGrid at 0x29ccab81a00>"
      ]
     },
     "execution_count": 69,
     "metadata": {},
     "output_type": "execute_result"
    },
    {
     "data": {
      "image/png": "[encoded data removed]",
      "text/plain": [
       "<Figure size 360x360 with 1 Axes>"
      ]
     },
     "metadata": {
      "needs_background": "light"
     },
     "output_type": "display_data"
    }
   ],
   "source": [
    "sns.displot(Boston_train['medv'],kde=True)                    #The Actual Prices(medv) for Train Dataset"
   ]
  },
  {
   "cell_type": "code",
   "execution_count": 70,
   "id": "8847d855",
   "metadata": {},
   "outputs": [
    {
     "data": {
      "text/plain": [
       "<seaborn.axisgrid.FacetGrid at 0x29cc8889d90>"
      ]
     },
     "execution_count": 70,
     "metadata": {},
     "output_type": "execute_result"
    },
    {
     "data": {
      "image/png": "[encoded data removed]",
      "text/plain": [
       "<Figure size 360x360 with 1 Axes>"
      ]
     },
     "metadata": {
      "needs_background": "light"
     },
     "output_type": "display_data"
    }
   ],
   "source": [
    "sns.displot(Pred,kde=True)                    #The Predicted Prices(medv) for Train Dataset"
   ]
  },
  {
   "cell_type": "code",
   "execution_count": 71,
   "id": "7e1746f2",
   "metadata": {},
   "outputs": [],
   "source": [
    "# summary for Train Dataset\n",
    "#the prices between between 15 to 25 have decreased slightly and 40 to 50 have slightly increased"
   ]
  },
  {
   "cell_type": "code",
   "execution_count": 72,
   "id": "124e965c",
   "metadata": {},
   "outputs": [],
   "source": [
    "DF=pd.DataFrame([Y_train, Pred]).T"
   ]
  },
  {
   "cell_type": "code",
   "execution_count": 73,
   "id": "9b4cff44",
   "metadata": {},
   "outputs": [
    {
     "data": {
      "text/html": [
       "<div>\n",
       "<style scoped>\n",
       "    .dataframe tbody tr th:only-of-type {\n",
       "        vertical-align: middle;\n",
       "    }\n",
       "\n",
       "    .dataframe tbody tr th {\n",
       "        vertical-align: top;\n",
       "    }\n",
       "\n",
       "    .dataframe thead th {\n",
       "        text-align: right;\n",
       "    }\n",
       "</style>\n",
       "<table border=\"1\" class=\"dataframe\">\n",
       "  <thead>\n",
       "    <tr style=\"text-align: right;\">\n",
       "      <th></th>\n",
       "      <th>Actual Prices(medv)</th>\n",
       "      <th>Predicted Prices</th>\n",
       "    </tr>\n",
       "  </thead>\n",
       "  <tbody>\n",
       "    <tr>\n",
       "      <th>0</th>\n",
       "      <td>24.0</td>\n",
       "      <td>28.197779</td>\n",
       "    </tr>\n",
       "    <tr>\n",
       "      <th>1</th>\n",
       "      <td>21.6</td>\n",
       "      <td>24.741877</td>\n",
       "    </tr>\n",
       "    <tr>\n",
       "      <th>2</th>\n",
       "      <td>34.7</td>\n",
       "      <td>33.109193</td>\n",
       "    </tr>\n",
       "    <tr>\n",
       "      <th>3</th>\n",
       "      <td>33.4</td>\n",
       "      <td>30.951177</td>\n",
       "    </tr>\n",
       "    <tr>\n",
       "      <th>4</th>\n",
       "      <td>36.2</td>\n",
       "      <td>31.780311</td>\n",
       "    </tr>\n",
       "    <tr>\n",
       "      <th>...</th>\n",
       "      <td>...</td>\n",
       "      <td>...</td>\n",
       "    </tr>\n",
       "    <tr>\n",
       "      <th>346</th>\n",
       "      <td>17.2</td>\n",
       "      <td>14.475609</td>\n",
       "    </tr>\n",
       "    <tr>\n",
       "      <th>347</th>\n",
       "      <td>23.1</td>\n",
       "      <td>23.998899</td>\n",
       "    </tr>\n",
       "    <tr>\n",
       "      <th>348</th>\n",
       "      <td>24.5</td>\n",
       "      <td>26.649765</td>\n",
       "    </tr>\n",
       "    <tr>\n",
       "      <th>349</th>\n",
       "      <td>26.6</td>\n",
       "      <td>25.129473</td>\n",
       "    </tr>\n",
       "    <tr>\n",
       "      <th>350</th>\n",
       "      <td>22.9</td>\n",
       "      <td>20.619651</td>\n",
       "    </tr>\n",
       "  </tbody>\n",
       "</table>\n",
       "<p>351 rows × 2 columns</p>\n",
       "</div>"
      ],
      "text/plain": [
       "     Actual Prices(medv)  Predicted Prices\n",
       "0                   24.0         28.197779\n",
       "1                   21.6         24.741877\n",
       "2                   34.7         33.109193\n",
       "3                   33.4         30.951177\n",
       "4                   36.2         31.780311\n",
       "..                   ...               ...\n",
       "346                 17.2         14.475609\n",
       "347                 23.1         23.998899\n",
       "348                 24.5         26.649765\n",
       "349                 26.6         25.129473\n",
       "350                 22.9         20.619651\n",
       "\n",
       "[351 rows x 2 columns]"
      ]
     },
     "execution_count": 73,
     "metadata": {},
     "output_type": "execute_result"
    }
   ],
   "source": [
    "DF.rename({'medv':'Actual Prices(medv)','Unnamed 0':'Predicted Prices'},axis=1)"
   ]
  },
  {
   "cell_type": "code",
   "execution_count": 74,
   "id": "5b06734c",
   "metadata": {},
   "outputs": [
    {
     "name": "stdout",
     "output_type": "stream",
     "text": [
      "R^2: 0.8751092619397286\n"
     ]
    }
   ],
   "source": [
    "print('R^2:',metrics.r2_score(Y_train,Pred))"
   ]
  },
  {
   "cell_type": "code",
   "execution_count": 75,
   "id": "d5fd7b37",
   "metadata": {},
   "outputs": [
    {
     "name": "stdout",
     "output_type": "stream",
     "text": [
      "R^2: 0.8751092619397286\n",
      "Adjusted R^2: 0.8699054811872173\n",
      "MAE: 2.2790138384436425\n",
      "MSE: 8.917206198996563\n",
      "RMSE: 2.9861691511025565\n"
     ]
    }
   ],
   "source": [
    "print('R^2:',metrics.r2_score(Y_train,Pred))\n",
    "print('Adjusted R^2:',1 - (1-metrics.r2_score(Y_train,Pred))*(len(Y_train)-1)/(len(Y_train)-X_train.shape[1]-1))\n",
    "print('MAE:',metrics.mean_absolute_error(Y_train, Pred))\n",
    "print('MSE:',metrics.mean_squared_error(Y_train, Pred))\n",
    "print('RMSE:',np.sqrt(metrics.mean_squared_error(Y_train, Pred)))"
   ]
  },
  {
   "cell_type": "markdown",
   "id": "e89ff2c1",
   "metadata": {},
   "source": [
    "# For Test Data"
   ]
  },
  {
   "cell_type": "code",
   "execution_count": 76,
   "id": "485331c7",
   "metadata": {},
   "outputs": [],
   "source": [
    "X_test=Boston_test.drop('medv',axis=1)\n",
    "Y_test=Boston_test['medv']"
   ]
  },
  {
   "cell_type": "code",
   "execution_count": 77,
   "id": "0e0177d1",
   "metadata": {},
   "outputs": [
    {
     "data": {
      "text/plain": [
       "LinearRegression()"
      ]
     },
     "execution_count": 77,
     "metadata": {},
     "output_type": "execute_result"
    }
   ],
   "source": [
    "LR.fit(X_test,Y_test)"
   ]
  },
  {
   "cell_type": "code",
   "execution_count": 78,
   "id": "9b8c5e29",
   "metadata": {},
   "outputs": [],
   "source": [
    "Pred2=LR.predict(X_test)"
   ]
  },
  {
   "cell_type": "code",
   "execution_count": 79,
   "id": "a574d9f7",
   "metadata": {},
   "outputs": [],
   "source": [
    "DF_test=pd.DataFrame([Y_test, Pred2]).T"
   ]
  },
  {
   "cell_type": "code",
   "execution_count": 80,
   "id": "b644d9f6",
   "metadata": {},
   "outputs": [
    {
     "data": {
      "text/html": [
       "<div>\n",
       "<style scoped>\n",
       "    .dataframe tbody tr th:only-of-type {\n",
       "        vertical-align: middle;\n",
       "    }\n",
       "\n",
       "    .dataframe tbody tr th {\n",
       "        vertical-align: top;\n",
       "    }\n",
       "\n",
       "    .dataframe thead th {\n",
       "        text-align: right;\n",
       "    }\n",
       "</style>\n",
       "<table border=\"1\" class=\"dataframe\">\n",
       "  <thead>\n",
       "    <tr style=\"text-align: right;\">\n",
       "      <th></th>\n",
       "      <th>Actual Prices(medv)</th>\n",
       "      <th>Predicted Prices</th>\n",
       "    </tr>\n",
       "  </thead>\n",
       "  <tbody>\n",
       "    <tr>\n",
       "      <th>0</th>\n",
       "      <td>24.1</td>\n",
       "      <td>21.366161</td>\n",
       "    </tr>\n",
       "    <tr>\n",
       "      <th>1</th>\n",
       "      <td>18.6</td>\n",
       "      <td>20.796529</td>\n",
       "    </tr>\n",
       "    <tr>\n",
       "      <th>2</th>\n",
       "      <td>30.1</td>\n",
       "      <td>30.190349</td>\n",
       "    </tr>\n",
       "    <tr>\n",
       "      <th>3</th>\n",
       "      <td>18.2</td>\n",
       "      <td>18.791372</td>\n",
       "    </tr>\n",
       "    <tr>\n",
       "      <th>4</th>\n",
       "      <td>20.6</td>\n",
       "      <td>20.309968</td>\n",
       "    </tr>\n",
       "    <tr>\n",
       "      <th>...</th>\n",
       "      <td>...</td>\n",
       "      <td>...</td>\n",
       "    </tr>\n",
       "    <tr>\n",
       "      <th>150</th>\n",
       "      <td>22.4</td>\n",
       "      <td>17.915342</td>\n",
       "    </tr>\n",
       "    <tr>\n",
       "      <th>151</th>\n",
       "      <td>20.6</td>\n",
       "      <td>19.932299</td>\n",
       "    </tr>\n",
       "    <tr>\n",
       "      <th>152</th>\n",
       "      <td>23.9</td>\n",
       "      <td>21.750370</td>\n",
       "    </tr>\n",
       "    <tr>\n",
       "      <th>153</th>\n",
       "      <td>22.0</td>\n",
       "      <td>20.465813</td>\n",
       "    </tr>\n",
       "    <tr>\n",
       "      <th>154</th>\n",
       "      <td>11.9</td>\n",
       "      <td>20.163840</td>\n",
       "    </tr>\n",
       "  </tbody>\n",
       "</table>\n",
       "<p>155 rows × 2 columns</p>\n",
       "</div>"
      ],
      "text/plain": [
       "     Actual Prices(medv)  Predicted Prices\n",
       "0                   24.1         21.366161\n",
       "1                   18.6         20.796529\n",
       "2                   30.1         30.190349\n",
       "3                   18.2         18.791372\n",
       "4                   20.6         20.309968\n",
       "..                   ...               ...\n",
       "150                 22.4         17.915342\n",
       "151                 20.6         19.932299\n",
       "152                 23.9         21.750370\n",
       "153                 22.0         20.465813\n",
       "154                 11.9         20.163840\n",
       "\n",
       "[155 rows x 2 columns]"
      ]
     },
     "execution_count": 80,
     "metadata": {},
     "output_type": "execute_result"
    }
   ],
   "source": [
    "DF_test.rename({'medv':'Actual Prices(medv)','Unnamed 0':'Predicted Prices'},axis=1)"
   ]
  },
  {
   "cell_type": "code",
   "execution_count": 81,
   "id": "00cfb77e",
   "metadata": {},
   "outputs": [
    {
     "data": {
      "text/plain": [
       "<seaborn.axisgrid.FacetGrid at 0x29ccad15760>"
      ]
     },
     "execution_count": 81,
     "metadata": {},
     "output_type": "execute_result"
    },
    {
     "data": {
      "image/png": "[encoded data removed]",
      "text/plain": [
       "<Figure size 360x360 with 1 Axes>"
      ]
     },
     "metadata": {
      "needs_background": "light"
     },
     "output_type": "display_data"
    }
   ],
   "source": [
    "sns.displot(Boston_test['medv'],kde=True)                    #The Actual Prices(medv) for Test Dataset"
   ]
  },
  {
   "cell_type": "code",
   "execution_count": 82,
   "id": "c85c91d7",
   "metadata": {},
   "outputs": [
    {
     "data": {
      "text/plain": [
       "<seaborn.axisgrid.FacetGrid at 0x29ccae01e80>"
      ]
     },
     "execution_count": 82,
     "metadata": {},
     "output_type": "execute_result"
    },
    {
     "data": {
      "image/png": "[encoded data removed]",
      "text/plain": [
       "<Figure size 360x360 with 1 Axes>"
      ]
     },
     "metadata": {
      "needs_background": "light"
     },
     "output_type": "display_data"
    }
   ],
   "source": [
    "sns.displot(Pred2,kde=True)                    #The Predicted Prices(medv) for Test Dataset"
   ]
  },
  {
   "cell_type": "code",
   "execution_count": 83,
   "id": "7316ef4e",
   "metadata": {},
   "outputs": [
    {
     "name": "stdout",
     "output_type": "stream",
     "text": [
      "R^2: 0.6842339103724795\n",
      "Adjusted R^2: 0.6526573014097274\n",
      "MAE: 3.3234562893117308\n",
      "MSE: 21.026309132577833\n",
      "RMSE: 4.585445358149831\n"
     ]
    }
   ],
   "source": [
    "print('R^2:',metrics.r2_score(Y_test,Pred2))\n",
    "print('Adjusted R^2:',1 - (1-metrics.r2_score(Y_test,Pred2))*(len(Y_test)-1)/(len(Y_test)-X_test.shape[1]-1))\n",
    "print('MAE:',metrics.mean_absolute_error(Y_test, Pred2))\n",
    "print('MSE:',metrics.mean_squared_error(Y_test, Pred2))\n",
    "print('RMSE:',np.sqrt(metrics.mean_squared_error(Y_test, Pred2)))"
   ]
  },
  {
   "cell_type": "markdown",
   "id": "6c9aa95c",
   "metadata": {},
   "source": [
    "# Summary of the difference in actual and predicted prices for Test Data\n",
    "\n",
    "##The Prices between 30 to 50 have increased  & 15 to 25 have decreased slightly\n",
    "\n",
    "###This shows there will be demand for Houses ranging between 0 to 15 and in 30 to 50 ,but less demand for 15 to 20"
   ]
  },
  {
   "cell_type": "code",
   "execution_count": null,
   "id": "10714a78",
   "metadata": {},
   "outputs": [],
   "source": []
  }
 ],
 "metadata": {
  "kernelspec": {
   "display_name": "Python 3 (ipykernel)",
   "language": "python",
   "name": "python3"
  },
  "language_info": {
   "codemirror_mode": {
    "name": "ipython",
    "version": 3
   },
   "file_extension": ".py",
   "mimetype": "text/x-python",
   "name": "python",
   "nbconvert_exporter": "python",
   "pygments_lexer": "ipython3",
   "version": "3.9.7"
  }
 },
 "nbformat": 4,
 "nbformat_minor": 5
}
